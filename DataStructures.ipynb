{
 "cells": [
  {
   "cell_type": "code",
   "execution_count": 1,
   "metadata": {
    "collapsed": false
   },
   "outputs": [
    {
     "name": "stdout",
     "output_type": "stream",
     "text": [
      "Enter phone number: 4105478075\n",
      "9\n"
     ]
    }
   ],
   "source": [
    "#Part 1a\n",
    "x = input(\"Enter phone number: \")\n",
    "l = len(str(x))\n",
    "x = int(x)\n",
    "xtemp = int(x)\n",
    "sumx = 0\n",
    "\n",
    "for i in range(l):\n",
    "    sumx = sumx + x%10\n",
    "    x = x//10\n",
    "    \n",
    "y = xtemp - sumx\n",
    "ly = len(str(y))\n",
    "sumy = 0\n",
    "\n",
    "for i in range(ly):  \n",
    "    if ly >= 1:\n",
    "        sumy = sumy + y%10\n",
    "        y = y//10\n",
    "        ly = len(str(y))\n",
    "        #print(sumy, y, ly)\n",
    "\n",
    "print(sumy//10 + sumy%10)\n"
   ]
  },
  {
   "cell_type": "code",
   "execution_count": 10,
   "metadata": {
    "collapsed": false
   },
   "outputs": [
    {
     "name": "stdout",
     "output_type": "stream",
     "text": [
      "617283945.0\n",
      "205761315.0\n",
      "68587105.0\n",
      "13717421.0\n",
      "3803.0\n",
      "Unique primes set: {1, 2, 3, 5, 3607}\n",
      "Number of unique primes: 5\n"
     ]
    }
   ],
   "source": [
    "#Part 1b:\n",
    "x = 1234567890\n",
    "divide = 2\n",
    "primes = [1]\n",
    "\n",
    "while divide != x:\n",
    "    if x%divide==0:\n",
    "        x = x/divide\n",
    "        primes.append(divide)\n",
    "    else:\n",
    "        divide += 1\n",
    "            \n",
    "uniques = set(primes)\n",
    "print(\"Unique primes set:\", uniques)\n",
    "print(\"Number of unique primes:\", len(uniques))"
   ]
  }
 ],
 "metadata": {
  "anaconda-cloud": {},
  "kernelspec": {
   "display_name": "Python [default]",
   "language": "python",
   "name": "python3"
  },
  "language_info": {
   "codemirror_mode": {
    "name": "ipython",
    "version": 3
   },
   "file_extension": ".py",
   "mimetype": "text/x-python",
   "name": "python",
   "nbconvert_exporter": "python",
   "pygments_lexer": "ipython3",
   "version": "3.5.2"
  }
 },
 "nbformat": 4,
 "nbformat_minor": 1
}
